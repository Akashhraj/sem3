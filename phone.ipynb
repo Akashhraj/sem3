{
 "cells": [
  {
   "cell_type": "code",
   "execution_count": 5,
   "id": "29ba6467",
   "metadata": {},
   "outputs": [
    {
     "name": "stdout",
     "output_type": "stream",
     "text": [
      "\t welcome to mn smartphone\n",
      "\t if u have any problem with your phone?(yes or no)\n",
      "you:\n"
     ]
    }
   ],
   "source": [
    "import time\n",
    "print(\"\\t welcome to mn smartphone\")\n",
    "print(\"\\t if u have any problem with your phone?(yes or no)\")\n",
    "choice1=input(\"you:\")\n",
    "\n",
    "if choice1 == \"yes\":\n",
    "    print(\"\\n enter the type of fault listed down below:\\n1.button problems\\n2.display problem\\n3.no issues\")\n",
    "    choice2=input(\"\\n enter here(numbers only):\")\n",
    "    \n",
    "    if choice2>\"3\" or choice2<\"1\":\n",
    "        print(\"\\n please enter valid option:\")\n",
    "        \n",
    "    elif choice2 ==\"3\":\n",
    "        printf(\"............\")\n",
    "        \n",
    "    elif choice2 ==\"2\":\n",
    "        printf(\"\\n check your button are clean and free to press \\n if it is not clean the button and restart your phone....\")\n",
    "        printf(\"\\n still youhad a problemthen you have to change buttons\")\n",
    "        choice2 = input(\"you:\")\n",
    "        \n",
    "    if choice4 ==\"no\":\n",
    "        print(\"thank you.....\")"
   ]
  }
 ],
 "metadata": {
  "kernelspec": {
   "display_name": "Python 3 (ipykernel)",
   "language": "python",
   "name": "python3"
  },
  "language_info": {
   "codemirror_mode": {
    "name": "ipython",
    "version": 3
   },
   "file_extension": ".py",
   "mimetype": "text/x-python",
   "name": "python",
   "nbconvert_exporter": "python",
   "pygments_lexer": "ipython3",
   "version": "3.10.9"
  }
 },
 "nbformat": 4,
 "nbformat_minor": 5
}
